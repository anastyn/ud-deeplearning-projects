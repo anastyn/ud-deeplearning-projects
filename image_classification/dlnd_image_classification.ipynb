{
 "cells": [
  {
   "cell_type": "markdown",
   "metadata": {
    "collapsed": true
   },
   "source": [
    "# Image Classification\n",
    "In this project, you'll classify images from the [CIFAR-10 dataset](https://www.cs.toronto.edu/~kriz/cifar.html).  The dataset consists of airplanes, dogs, cats, and other objects. You'll preprocess the images, then train a convolutional neural network on all the samples. The images need to be normalized and the labels need to be one-hot encoded.  You'll get to apply what you learned and build a convolutional, max pooling, dropout, and fully connected layers.  At the end, you'll get to see your neural network's predictions on the sample images.\n",
    "## Get the Data\n",
    "Run the following cell to download the [CIFAR-10 dataset for python](https://www.cs.toronto.edu/~kriz/cifar-10-python.tar.gz)."
   ]
  },
  {
   "cell_type": "code",
   "execution_count": 2,
   "metadata": {},
   "outputs": [
    {
     "name": "stdout",
     "output_type": "stream",
     "text": [
      "All files found!\n"
     ]
    }
   ],
   "source": [
    "\"\"\"\n",
    "DON'T MODIFY ANYTHING IN THIS CELL THAT IS BELOW THIS LINE\n",
    "\"\"\"\n",
    "from urllib.request import urlretrieve\n",
    "from os.path import isfile, isdir\n",
    "from tqdm import tqdm\n",
    "import problem_unittests as tests\n",
    "import tarfile\n",
    "\n",
    "cifar10_dataset_folder_path = 'cifar-10-batches-py'\n",
    "\n",
    "# Use Floyd's cifar-10 dataset if present\n",
    "floyd_cifar10_location = '/input/cifar-10/python.tar.gz'\n",
    "if isfile(floyd_cifar10_location):\n",
    "    tar_gz_path = floyd_cifar10_location\n",
    "else:\n",
    "    tar_gz_path = 'cifar-10-python.tar.gz'\n",
    "\n",
    "class DLProgress(tqdm):\n",
    "    last_block = 0\n",
    "\n",
    "    def hook(self, block_num=1, block_size=1, total_size=None):\n",
    "        self.total = total_size\n",
    "        self.update((block_num - self.last_block) * block_size)\n",
    "        self.last_block = block_num\n",
    "\n",
    "if not isfile(tar_gz_path):\n",
    "    with DLProgress(unit='B', unit_scale=True, miniters=1, desc='CIFAR-10 Dataset') as pbar:\n",
    "        urlretrieve(\n",
    "            'https://www.cs.toronto.edu/~kriz/cifar-10-python.tar.gz',\n",
    "            tar_gz_path,\n",
    "            pbar.hook)\n",
    "\n",
    "if not isdir(cifar10_dataset_folder_path):\n",
    "    with tarfile.open(tar_gz_path) as tar:\n",
    "        tar.extractall()\n",
    "        tar.close()\n",
    "\n",
    "\n",
    "tests.test_folder_path(cifar10_dataset_folder_path)"
   ]
  },
  {
   "cell_type": "markdown",
   "metadata": {},
   "source": [
    "## Explore the Data\n",
    "The dataset is broken into batches to prevent your machine from running out of memory.  The CIFAR-10 dataset consists of 5 batches, named `data_batch_1`, `data_batch_2`, etc.. Each batch contains the labels and images that are one of the following:\n",
    "* airplane\n",
    "* automobile\n",
    "* bird\n",
    "* cat\n",
    "* deer\n",
    "* dog\n",
    "* frog\n",
    "* horse\n",
    "* ship\n",
    "* truck\n",
    "\n",
    "Understanding a dataset is part of making predictions on the data.  Play around with the code cell below by changing the `batch_id` and `sample_id`. The `batch_id` is the id for a batch (1-5). The `sample_id` is the id for a image and label pair in the batch.\n",
    "\n",
    "Ask yourself \"What are all possible labels?\", \"What is the range of values for the image data?\", \"Are the labels in order or random?\".  Answers to questions like these will help you preprocess the data and end up with better predictions."
   ]
  },
  {
   "cell_type": "code",
   "execution_count": 3,
   "metadata": {},
   "outputs": [
    {
     "name": "stdout",
     "output_type": "stream",
     "text": [
      "\n",
      "Stats of batch 4:\n",
      "Samples: 10000\n",
      "Label Counts: {0: 1003, 1: 963, 2: 1041, 3: 976, 4: 1004, 5: 1021, 6: 1004, 7: 981, 8: 1024, 9: 983}\n",
      "First 20 Labels: [0, 6, 0, 2, 7, 2, 1, 2, 4, 1, 5, 6, 6, 3, 1, 3, 5, 5, 8, 1]\n",
      "\n",
      "Example of Image 8322:\n",
      "Image - Min Value: 5 Max Value: 255\n",
      "Image - Shape: (32, 32, 3)\n",
      "Label - Label Id: 8 Name: ship\n"
     ]
    },
    {
     "data": {
      "image/png": "[encoded data removed]",
      "text/plain": [
       "<matplotlib.figure.Figure at 0x7f6ad7ae5b00>"
      ]
     },
     "metadata": {
      "image/png": {
       "height": 250,
       "width": 253
      }
     },
     "output_type": "display_data"
    }
   ],
   "source": [
    "%matplotlib inline\n",
    "%config InlineBackend.figure_format = 'retina'\n",
    "\n",
    "import helper\n",
    "import numpy as np\n",
    "\n",
    "# Explore the dataset\n",
    "batch_id = 4\n",
    "sample_id = 8322\n",
    "helper.display_stats(cifar10_dataset_folder_path, batch_id, sample_id)"
   ]
  },
  {
   "cell_type": "markdown",
   "metadata": {},
   "source": [
    "## Implement Preprocess Functions\n",
    "### Normalize\n",
    "In the cell below, implement the `normalize` function to take in image data, `x`, and return it as a normalized Numpy array. The values should be in the range of 0 to 1, inclusive.  The return object should be the same shape as `x`."
   ]
  },
  {
   "cell_type": "code",
   "execution_count": 4,
   "metadata": {},
   "outputs": [
    {
     "name": "stdout",
     "output_type": "stream",
     "text": [
      "Tests Passed\n"
     ]
    }
   ],
   "source": [
    "def normalize(x):\n",
    "    \"\"\"\n",
    "    Normalize a list of sample image data in the range of 0 to 1\n",
    "    : x: List of image data.  The image shape is (32, 32, 3)\n",
    "    : return: Numpy array of normalize data\n",
    "    \"\"\"\n",
    "    # TODO: Implement Function\n",
    "    return x / np.linalg.norm(x)\n",
    "\n",
    "\n",
    "\"\"\"\n",
    "DON'T MODIFY ANYTHING IN THIS CELL THAT IS BELOW THIS LINE\n",
    "\"\"\"\n",
    "tests.test_normalize(normalize)"
   ]
  },
  {
   "cell_type": "markdown",
   "metadata": {},
   "source": [
    "### One-hot encode\n",
    "Just like the previous code cell, you'll be implementing a function for preprocessing.  This time, you'll implement the `one_hot_encode` function. The input, `x`, are a list of labels.  Implement the function to return the list of labels as One-Hot encoded Numpy array.  The possible values for labels are 0 to 9. The one-hot encoding function should return the same encoding for each value between each call to `one_hot_encode`.  Make sure to save the map of encodings outside the function.\n",
    "\n",
    "Hint: Don't reinvent the wheel."
   ]
  },
  {
   "cell_type": "code",
   "execution_count": 5,
   "metadata": {},
   "outputs": [
    {
     "name": "stdout",
     "output_type": "stream",
     "text": [
      "Tests Passed\n"
     ]
    }
   ],
   "source": [
    "from sklearn import preprocessing\n",
    "\n",
    "global encoded_labels\n",
    "\n",
    "def one_hot_encode(x):\n",
    "    \"\"\"\n",
    "    One hot encode a list of sample labels. Return a one-hot encoded vector for each label.\n",
    "    : x: List of sample Labels\n",
    "    : return: Numpy array of one-hot encoded labels\n",
    "    \"\"\"\n",
    "    # TODO: Implement Function\n",
    "    # np.eye(10) returns a 2-D array of 10 elements with ones on the diagonal and zeros elsewhere.\n",
    "    # x consist of values from 0 to 9, so we can use x to get the corresponding row created by the eye function.\n",
    "    return np.eye(10)[x]\n",
    "\n",
    "\n",
    "\"\"\"\n",
    "DON'T MODIFY ANYTHING IN THIS CELL THAT IS BELOW THIS LINE\n",
    "\"\"\"\n",
    "tests.test_one_hot_encode(one_hot_encode)"
   ]
  },
  {
   "cell_type": "markdown",
   "metadata": {},
   "source": [
    "### Randomize Data\n",
    "As you saw from exploring the data above, the order of the samples are randomized.  It doesn't hurt to randomize it again, but you don't need to for this dataset."
   ]
  },
  {
   "cell_type": "markdown",
   "metadata": {},
   "source": [
    "## Preprocess all the data and save it\n",
    "Running the code cell below will preprocess all the CIFAR-10 data and save it to file. The code below also uses 10% of the training data for validation."
   ]
  },
  {
   "cell_type": "code",
   "execution_count": 6,
   "metadata": {
    "collapsed": true
   },
   "outputs": [],
   "source": [
    "\"\"\"\n",
    "DON'T MODIFY ANYTHING IN THIS CELL\n",
    "\"\"\"\n",
    "# Preprocess Training, Validation, and Testing Data\n",
    "helper.preprocess_and_save_data(cifar10_dataset_folder_path, normalize, one_hot_encode)"
   ]
  },
  {
   "cell_type": "markdown",
   "metadata": {},
   "source": [
    "# Check Point\n",
    "This is your first checkpoint.  If you ever decide to come back to this notebook or have to restart the notebook, you can start from here.  The preprocessed data has been saved to disk."
   ]
  },
  {
   "cell_type": "code",
   "execution_count": 7,
   "metadata": {
    "collapsed": true
   },
   "outputs": [],
   "source": [
    "\"\"\"\n",
    "DON'T MODIFY ANYTHING IN THIS CELL\n",
    "\"\"\"\n",
    "import pickle\n",
    "import problem_unittests as tests\n",
    "import helper\n",
    "\n",
    "# Load the Preprocessed Validation data\n",
    "valid_features, valid_labels = pickle.load(open('preprocess_validation.p', mode='rb'))"
   ]
  },
  {
   "cell_type": "markdown",
   "metadata": {},
   "source": [
    "## Build the network\n",
    "For the neural network, you'll build each layer into a function.  Most of the code you've seen has been outside of functions. To test your code more thoroughly, we require that you put each layer in a function.  This allows us to give you better feedback and test for simple mistakes using our unittests before you submit your project.\n",
    "\n",
    ">**Note:** If you're finding it hard to dedicate enough time for this course each week, we've provided a small shortcut to this part of the project. In the next couple of problems, you'll have the option to use classes from the [TensorFlow Layers](https://www.tensorflow.org/api_docs/python/tf/layers) or [TensorFlow Layers (contrib)](https://www.tensorflow.org/api_guides/python/contrib.layers) packages to build each layer, except the layers you build in the \"Convolutional and Max Pooling Layer\" section.  TF Layers is similar to Keras's and TFLearn's abstraction to layers, so it's easy to pickup.\n",
    "\n",
    ">However, if you would like to get the most out of this course, try to solve all the problems _without_ using anything from the TF Layers packages. You **can** still use classes from other packages that happen to have the same name as ones you find in TF Layers! For example, instead of using the TF Layers version of the `conv2d` class, [tf.layers.conv2d](https://www.tensorflow.org/api_docs/python/tf/layers/conv2d), you would want to use the TF Neural Network version of `conv2d`, [tf.nn.conv2d](https://www.tensorflow.org/api_docs/python/tf/nn/conv2d). \n",
    "\n",
    "Let's begin!\n",
    "\n",
    "### Input\n",
    "The neural network needs to read the image data, one-hot encoded labels, and dropout keep probability. Implement the following functions\n",
    "* Implement `neural_net_image_input`\n",
    " * Return a [TF Placeholder](https://www.tensorflow.org/api_docs/python/tf/placeholder)\n",
    " * Set the shape using `image_shape` with batch size set to `None`.\n",
    " * Name the TensorFlow placeholder \"x\" using the TensorFlow `name` parameter in the [TF Placeholder](https://www.tensorflow.org/api_docs/python/tf/placeholder).\n",
    "* Implement `neural_net_label_input`\n",
    " * Return a [TF Placeholder](https://www.tensorflow.org/api_docs/python/tf/placeholder)\n",
    " * Set the shape using `n_classes` with batch size set to `None`.\n",
    " * Name the TensorFlow placeholder \"y\" using the TensorFlow `name` parameter in the [TF Placeholder](https://www.tensorflow.org/api_docs/python/tf/placeholder).\n",
    "* Implement `neural_net_keep_prob_input`\n",
    " * Return a [TF Placeholder](https://www.tensorflow.org/api_docs/python/tf/placeholder) for dropout keep probability.\n",
    " * Name the TensorFlow placeholder \"keep_prob\" using the TensorFlow `name` parameter in the [TF Placeholder](https://www.tensorflow.org/api_docs/python/tf/placeholder).\n",
    "\n",
    "These names will be used at the end of the project to load your saved model.\n",
    "\n",
    "Note: `None` for shapes in TensorFlow allow for a dynamic size."
   ]
  },
  {
   "cell_type": "code",
   "execution_count": 8,
   "metadata": {},
   "outputs": [
    {
     "name": "stdout",
     "output_type": "stream",
     "text": [
      "Image Input Tests Passed.\n",
      "Label Input Tests Passed.\n",
      "Keep Prob Tests Passed.\n"
     ]
    }
   ],
   "source": [
    "import tensorflow as tf\n",
    "\n",
    "def neural_net_image_input(image_shape):\n",
    "    \"\"\"\n",
    "    Return a Tensor for a batch of image input\n",
    "    : image_shape: Shape of the images\n",
    "    : return: Tensor for image input.\n",
    "    \"\"\"\n",
    "    # TODO: Implement Function\n",
    "    return tf.placeholder(tf.float32, shape=[None, image_shape[0], image_shape[1], image_shape[2]], name=\"x\")\n",
    "\n",
    "\n",
    "def neural_net_label_input(n_classes):\n",
    "    \"\"\"\n",
    "    Return a Tensor for a batch of label input\n",
    "    : n_classes: Number of classes\n",
    "    : return: Tensor for label input.\n",
    "    \"\"\"\n",
    "    # TODO: Implement Function\n",
    "    return tf.placeholder(tf.float32, shape=[None, n_classes], name=\"y\")\n",
    "\n",
    "\n",
    "def neural_net_keep_prob_input():\n",
    "    \"\"\"\n",
    "    Return a Tensor for keep probability\n",
    "    : return: Tensor for keep probability.\n",
    "    \"\"\"\n",
    "    # TODO: Implement Function\n",
    "    return tf.placeholder(tf.float32, name=\"keep_prob\")\n",
    "\n",
    "\n",
    "\"\"\"\n",
    "DON'T MODIFY ANYTHING IN THIS CELL THAT IS BELOW THIS LINE\n",
    "\"\"\"\n",
    "tf.reset_default_graph()\n",
    "tests.test_nn_image_inputs(neural_net_image_input)\n",
    "tests.test_nn_label_inputs(neural_net_label_input)\n",
    "tests.test_nn_keep_prob_inputs(neural_net_keep_prob_input)"
   ]
  },
  {
   "cell_type": "markdown",
   "metadata": {},
   "source": [
    "### Convolution and Max Pooling Layer\n",
    "Convolution layers have a lot of success with images. For this code cell, you should implement the function `conv2d_maxpool` to apply convolution then max pooling:\n",
    "* Create the weight and bias using `conv_ksize`, `conv_num_outputs` and the shape of `x_tensor`.\n",
    "* Apply a convolution to `x_tensor` using weight and `conv_strides`.\n",
    " * We recommend you use same padding, but you're welcome to use any padding.\n",
    "* Add bias\n",
    "* Add a nonlinear activation to the convolution.\n",
    "* Apply Max Pooling using `pool_ksize` and `pool_strides`.\n",
    " * We recommend you use same padding, but you're welcome to use any padding.\n",
    "\n",
    "**Note:** You **can't** use [TensorFlow Layers](https://www.tensorflow.org/api_docs/python/tf/layers) or [TensorFlow Layers (contrib)](https://www.tensorflow.org/api_guides/python/contrib.layers) for **this** layer, but you can still use TensorFlow's [Neural Network](https://www.tensorflow.org/api_docs/python/tf/nn) package. You may still use the shortcut option for all the **other** layers."
   ]
  },
  {
   "cell_type": "code",
   "execution_count": 9,
   "metadata": {},
   "outputs": [
    {
     "name": "stdout",
     "output_type": "stream",
     "text": [
      "Tests Passed\n"
     ]
    }
   ],
   "source": [
    "import math\n",
    "\n",
    "def conv2d_maxpool(x_tensor, conv_num_outputs, conv_ksize, conv_strides, pool_ksize, pool_strides):\n",
    "    \"\"\"\n",
    "    Apply convolution then max pooling to x_tensor\n",
    "    :param x_tensor: TensorFlow Tensor\n",
    "    :param conv_num_outputs: Number of outputs for the convolutional layer\n",
    "    :param conv_ksize: kernal size 2-D Tuple for the convolutional layer\n",
    "    :param conv_strides: Stride 2-D Tuple for convolution\n",
    "    :param pool_ksize: kernal size 2-D Tuple for pool\n",
    "    :param pool_strides: Stride 2-D Tuple for pool\n",
    "    : return: A tensor that represents convolution and max pooling of x_tensor\n",
    "    \"\"\"\n",
    "    # TODO: Implement Function\n",
    "    # initializing weight and bias\n",
    "    # convert x_tensor shape to an array of int\n",
    "    x_tensor_shapes = x_tensor.get_shape().as_list()\n",
    "    \n",
    "    # conv_ksize is our filter/kernel\n",
    "    # conv_num_outputs number of outputs and bias variables\n",
    "    \n",
    "    weight = tf.Variable(tf.truncated_normal([conv_ksize[0], conv_ksize[1], x_tensor_shapes[3], conv_num_outputs], stddev=1.0))\n",
    "    bias = tf.Variable(tf.zeros([conv_num_outputs]))\n",
    "    \n",
    "    # applying convolution\n",
    "    conv_layer = tf.nn.conv2d(x_tensor, weight, strides=[1, conv_strides[0], conv_strides[1], 1], padding='SAME')\n",
    "\n",
    "    # adding bias\n",
    "    conv_layer = tf.nn.bias_add(conv_layer, bias)\n",
    "    \n",
    "    # adding a non-linear activation (RELU)\n",
    "    conv_layer = tf.nn.relu(conv_layer)\n",
    "    \n",
    "    # applying max pooling\n",
    "    conv_layer = tf.nn.max_pool(\n",
    "        conv_layer,\n",
    "        ksize = [1, pool_ksize[0], pool_ksize[1], 1],\n",
    "        strides = [1, pool_strides[0], pool_strides[1], 1],\n",
    "        padding = 'SAME')\n",
    "    \n",
    "    return conv_layer\n",
    "\n",
    "\n",
    "\"\"\"\n",
    "DON'T MODIFY ANYTHING IN THIS CELL THAT IS BELOW THIS LINE\n",
    "\"\"\"\n",
    "tests.test_con_pool(conv2d_maxpool)"
   ]
  },
  {
   "cell_type": "markdown",
   "metadata": {},
   "source": [
    "### Flatten Layer\n",
    "Implement the `flatten` function to change the dimension of `x_tensor` from a 4-D tensor to a 2-D tensor.  The output should be the shape (*Batch Size*, *Flattened Image Size*). Shortcut option: you can use classes from the [TensorFlow Layers](https://www.tensorflow.org/api_docs/python/tf/layers) or [TensorFlow Layers (contrib)](https://www.tensorflow.org/api_guides/python/contrib.layers) packages for this layer. For more of a challenge, only use other TensorFlow packages."
   ]
  },
  {
   "cell_type": "code",
   "execution_count": 10,
   "metadata": {},
   "outputs": [
    {
     "name": "stdout",
     "output_type": "stream",
     "text": [
      "Tests Passed\n"
     ]
    }
   ],
   "source": [
    "def flatten(x_tensor):\n",
    "    \"\"\"\n",
    "    Flatten x_tensor to (Batch Size, Flattened Image Size)\n",
    "    : x_tensor: A tensor of size (Batch Size, ...), where ... are the image dimensions.\n",
    "    : return: A tensor of size (Batch Size, Flattened Image Size).\n",
    "    \"\"\"\n",
    "    # TODO: Implement Function\n",
    "\n",
    "    shape = x_tensor.get_shape().as_list() # [None, 10, 30, 6]\n",
    "    dim = np.prod(shape[1:]) # np.prod(10, 30, 6) = 1800\n",
    "    # -1 means that the size of the batch dimension remains the same\n",
    "    # everything else is flattened\n",
    "    # the resulting shape in this case will be (?, 1800)\n",
    "    return tf.reshape(x_tensor, [-1, dim])\n",
    "\n",
    "\n",
    "\"\"\"\n",
    "DON'T MODIFY ANYTHING IN THIS CELL THAT IS BELOW THIS LINE\n",
    "\"\"\"\n",
    "tests.test_flatten(flatten)"
   ]
  },
  {
   "cell_type": "markdown",
   "metadata": {},
   "source": [
    "### Fully-Connected Layer\n",
    "Implement the `fully_conn` function to apply a fully connected layer to `x_tensor` with the shape (*Batch Size*, *num_outputs*). Shortcut option: you can use classes from the [TensorFlow Layers](https://www.tensorflow.org/api_docs/python/tf/layers) or [TensorFlow Layers (contrib)](https://www.tensorflow.org/api_guides/python/contrib.layers) packages for this layer. For more of a challenge, only use other TensorFlow packages."
   ]
  },
  {
   "cell_type": "code",
   "execution_count": 11,
   "metadata": {},
   "outputs": [
    {
     "name": "stdout",
     "output_type": "stream",
     "text": [
      "Tests Passed\n"
     ]
    }
   ],
   "source": [
    "import math\n",
    "\n",
    "def fully_conn(x_tensor, num_outputs):\n",
    "    \"\"\"\n",
    "    Apply a fully connected layer to x_tensor using weight and bias\n",
    "    : x_tensor: A 2-D tensor where the first dimension is batch size.\n",
    "    : num_outputs: The number of output that the new tensor should be.\n",
    "    : return: A 2-D tensor where the second dimension is num_outputs.\n",
    "    \"\"\"\n",
    "    # TODO: Implement Function\n",
    "    shape = x_tensor.get_shape().as_list()\n",
    "    \n",
    "    weight = tf.Variable(tf.truncated_normal([shape[1], num_outputs], stddev=1/math.sqrt(num_outputs)))\n",
    "    bias = tf.Variable(tf.zeros([num_outputs]))\n",
    "    \n",
    "    fully_connected = tf.add(tf.matmul(x_tensor, weight), bias)\n",
    "    fully_connected = tf.nn.relu(fully_connected)\n",
    "    \n",
    "    return fully_connected\n",
    "\n",
    "\n",
    "\"\"\"\n",
    "DON'T MODIFY ANYTHING IN THIS CELL THAT IS BELOW THIS LINE\n",
    "\"\"\"\n",
    "tests.test_fully_conn(fully_conn)"
   ]
  },
  {
   "cell_type": "markdown",
   "metadata": {},
   "source": [
    "### Output Layer\n",
    "Implement the `output` function to apply a fully connected layer to `x_tensor` with the shape (*Batch Size*, *num_outputs*). Shortcut option: you can use classes from the [TensorFlow Layers](https://www.tensorflow.org/api_docs/python/tf/layers) or [TensorFlow Layers (contrib)](https://www.tensorflow.org/api_guides/python/contrib.layers) packages for this layer. For more of a challenge, only use other TensorFlow packages.\n",
    "\n",
    "**Note:** Activation, softmax, or cross entropy should **not** be applied to this."
   ]
  },
  {
   "cell_type": "code",
   "execution_count": 12,
   "metadata": {},
   "outputs": [
    {
     "name": "stdout",
     "output_type": "stream",
     "text": [
      "Tests Passed\n"
     ]
    }
   ],
   "source": [
    "def output(x_tensor, num_outputs):\n",
    "    \"\"\"\n",
    "    Apply a output layer to x_tensor using weight and bias\n",
    "    : x_tensor: A 2-D tensor where the first dimension is batch size.\n",
    "    : num_outputs: The number of output that the new tensor should be.\n",
    "    : return: A 2-D tensor where the second dimension is num_outputs.\n",
    "    \"\"\"\n",
    "    # TODO: Implement Function\n",
    "    shape = x_tensor.get_shape().as_list()\n",
    "    \n",
    "    weight = tf.Variable(tf.truncated_normal([shape[1], num_outputs], stddev=1.0))\n",
    "    bias = tf.Variable(tf.zeros([num_outputs]))\n",
    "    \n",
    "    output = tf.add(tf.matmul(x_tensor, weight), bias)\n",
    "    return output\n",
    "\n",
    "\n",
    "\"\"\"\n",
    "DON'T MODIFY ANYTHING IN THIS CELL THAT IS BELOW THIS LINE\n",
    "\"\"\"\n",
    "tests.test_output(output)"
   ]
  },
  {
   "cell_type": "markdown",
   "metadata": {},
   "source": [
    "### Create Convolutional Model\n",
    "Implement the function `conv_net` to create a convolutional neural network model. The function takes in a batch of images, `x`, and outputs logits.  Use the layers you created above to create this model:\n",
    "\n",
    "* Apply 1, 2, or 3 Convolution and Max Pool layers\n",
    "* Apply a Flatten Layer\n",
    "* Apply 1, 2, or 3 Fully Connected Layers\n",
    "* Apply an Output Layer\n",
    "* Return the output\n",
    "* Apply [TensorFlow's Dropout](https://www.tensorflow.org/api_docs/python/tf/nn/dropout) to one or more layers in the model using `keep_prob`. "
   ]
  },
  {
   "cell_type": "code",
   "execution_count": 20,
   "metadata": {},
   "outputs": [
    {
     "name": "stdout",
     "output_type": "stream",
     "text": [
      "Neural Network Built!\n"
     ]
    }
   ],
   "source": [
    "def conv_net(x, keep_prob):\n",
    "    \"\"\"\n",
    "    Create a convolutional neural network model\n",
    "    : x: Placeholder tensor that holds image data.\n",
    "    : keep_prob: Placeholder tensor that hold dropout keep probability.\n",
    "    : return: Tensor that represents logits\n",
    "    \"\"\"\n",
    "    # TODO: Apply 1, 2, or 3 Convolution and Max Pool layers\n",
    "    #    Play around with different number of outputs, kernel size and stride\n",
    "    # Function Definition from Above:\n",
    "    #    conv2d_maxpool(x_tensor, conv_num_outputs, conv_ksize, conv_strides, pool_ksize, pool_strides)\n",
    "    conv = conv2d_maxpool(x, 64, (4,4), (1,1), (2,2), (2,2))\n",
    "    conv = conv2d_maxpool(conv, 64, (4,4), (1,1), (2,2), (2,2))\n",
    "    \n",
    "    # TODO: Apply a Flatten Layer\n",
    "    # Function Definition from Above:\n",
    "    #   flatten(x_tensor)\n",
    "    flattened = flatten(conv)\n",
    "\n",
    "    # TODO: Apply 1, 2, or 3 Fully Connected Layers\n",
    "    #    Play around with different number of outputs\n",
    "    # Function Definition from Above:\n",
    "    #   fully_conn(x_tensor, num_outputs)\n",
    "    \n",
    "    fully_connected = fully_conn(flattened, 512)\n",
    "    fully_connected = tf.nn.dropout(fully_connected, keep_prob)\n",
    "    \n",
    "    # TODO: Apply an Output Layer\n",
    "    #    Set this to the number of classes\n",
    "    # Function Definition from Above:\n",
    "    #   output(x_tensor, num_outputs)\n",
    "    return output(fully_connected, 10)\n",
    "\n",
    "\n",
    "\"\"\"\n",
    "DON'T MODIFY ANYTHING IN THIS CELL THAT IS BELOW THIS LINE\n",
    "\"\"\"\n",
    "\n",
    "##############################\n",
    "## Build the Neural Network ##\n",
    "##############################\n",
    "\n",
    "# Remove previous weights, bias, inputs, etc..\n",
    "tf.reset_default_graph()\n",
    "\n",
    "# Inputs\n",
    "x = neural_net_image_input((32, 32, 3))\n",
    "y = neural_net_label_input(10)\n",
    "keep_prob = neural_net_keep_prob_input()\n",
    "\n",
    "# Model\n",
    "logits = conv_net(x, keep_prob)\n",
    "\n",
    "# Name logits Tensor, so that is can be loaded from disk after training\n",
    "logits = tf.identity(logits, name='logits')\n",
    "\n",
    "# Loss and Optimizer\n",
    "cost = tf.reduce_mean(tf.nn.softmax_cross_entropy_with_logits(logits=logits, labels=y))\n",
    "optimizer = tf.train.AdamOptimizer().minimize(cost)\n",
    "\n",
    "# Accuracy\n",
    "correct_pred = tf.equal(tf.argmax(logits, 1), tf.argmax(y, 1))\n",
    "accuracy = tf.reduce_mean(tf.cast(correct_pred, tf.float32), name='accuracy')\n",
    "\n",
    "tests.test_conv_net(conv_net)"
   ]
  },
  {
   "cell_type": "markdown",
   "metadata": {},
   "source": [
    "## Train the Neural Network\n",
    "### Single Optimization\n",
    "Implement the function `train_neural_network` to do a single optimization.  The optimization should use `optimizer` to optimize in `session` with a `feed_dict` of the following:\n",
    "* `x` for image input\n",
    "* `y` for labels\n",
    "* `keep_prob` for keep probability for dropout\n",
    "\n",
    "This function will be called for each batch, so `tf.global_variables_initializer()` has already been called.\n",
    "\n",
    "Note: Nothing needs to be returned. This function is only optimizing the neural network."
   ]
  },
  {
   "cell_type": "code",
   "execution_count": 14,
   "metadata": {},
   "outputs": [
    {
     "name": "stdout",
     "output_type": "stream",
     "text": [
      "Tests Passed\n"
     ]
    }
   ],
   "source": [
    "def train_neural_network(session, optimizer, keep_probability, feature_batch, label_batch):\n",
    "    \"\"\"\n",
    "    Optimize the session on a batch of images and labels\n",
    "    : session: Current TensorFlow session\n",
    "    : optimizer: TensorFlow optimizer function\n",
    "    : keep_probability: keep probability\n",
    "    : feature_batch: Batch of Numpy image data\n",
    "    : label_batch: Batch of Numpy label data\n",
    "    \"\"\"\n",
    "    # TODO: Implement Function\n",
    "    session.run(optimizer, feed_dict={\n",
    "                x: feature_batch,\n",
    "                y: label_batch,\n",
    "                keep_prob: keep_probability})\n",
    "\n",
    "\n",
    "\"\"\"\n",
    "DON'T MODIFY ANYTHING IN THIS CELL THAT IS BELOW THIS LINE\n",
    "\"\"\"\n",
    "tests.test_train_nn(train_neural_network)"
   ]
  },
  {
   "cell_type": "markdown",
   "metadata": {},
   "source": [
    "### Show Stats\n",
    "Implement the function `print_stats` to print loss and validation accuracy.  Use the global variables `valid_features` and `valid_labels` to calculate validation accuracy.  Use a keep probability of `1.0` to calculate the loss and validation accuracy."
   ]
  },
  {
   "cell_type": "code",
   "execution_count": 15,
   "metadata": {
    "collapsed": true
   },
   "outputs": [],
   "source": [
    "def print_stats(session, feature_batch, label_batch, cost, accuracy):\n",
    "    \"\"\"\n",
    "    Print information about loss and validation accuracy\n",
    "    : session: Current TensorFlow session\n",
    "    : feature_batch: Batch of Numpy image data\n",
    "    : label_batch: Batch of Numpy label data\n",
    "    : cost: TensorFlow cost function\n",
    "    : accuracy: TensorFlow accuracy function\n",
    "    \"\"\"\n",
    "    # TODO: Implement Function\n",
    "    loss = sess.run(cost, feed_dict={\n",
    "                x: feature_batch,\n",
    "                y: label_batch,\n",
    "                keep_prob: 1.0})\n",
    "    valid_accuracy = sess.run(accuracy, feed_dict={\n",
    "                x: valid_features,\n",
    "                y: valid_labels,\n",
    "                keep_prob: 1.0})\n",
    "\n",
    "    print('Loss: {:>10.4f} Validation Accuracy: {:.6f}'.format(\n",
    "                loss,\n",
    "                valid_accuracy))\n",
    "    "
   ]
  },
  {
   "cell_type": "markdown",
   "metadata": {},
   "source": [
    "### Hyperparameters\n",
    "Tune the following parameters:\n",
    "* Set `epochs` to the number of iterations until the network stops learning or start overfitting\n",
    "* Set `batch_size` to the highest number that your machine has memory for.  Most people set them to common sizes of memory:\n",
    " * 64\n",
    " * 128\n",
    " * 256\n",
    " * ...\n",
    "* Set `keep_probability` to the probability of keeping a node using dropout"
   ]
  },
  {
   "cell_type": "code",
   "execution_count": 21,
   "metadata": {
    "collapsed": true
   },
   "outputs": [],
   "source": [
    "# TODO: Tune Parameters\n",
    "epochs = 50\n",
    "batch_size = 128\n",
    "keep_probability = 0.5"
   ]
  },
  {
   "cell_type": "markdown",
   "metadata": {},
   "source": [
    "### Train on a Single CIFAR-10 Batch\n",
    "Instead of training the neural network on all the CIFAR-10 batches of data, let's use a single batch. This should save time while you iterate on the model to get a better accuracy.  Once the final validation accuracy is 50% or greater, run the model on all the data in the next section."
   ]
  },
  {
   "cell_type": "code",
   "execution_count": 22,
   "metadata": {},
   "outputs": [
    {
     "name": "stdout",
     "output_type": "stream",
     "text": [
      "Checking the Training on a Single Batch...\n",
      "Epoch  1, CIFAR-10 Batch 1:  Loss:     2.1541 Validation Accuracy: 0.201800\n",
      "Epoch  2, CIFAR-10 Batch 1:  Loss:     2.0200 Validation Accuracy: 0.272000\n",
      "Epoch  3, CIFAR-10 Batch 1:  Loss:     1.8923 Validation Accuracy: 0.293400\n",
      "Epoch  4, CIFAR-10 Batch 1:  Loss:     1.7900 Validation Accuracy: 0.321000\n",
      "Epoch  5, CIFAR-10 Batch 1:  Loss:     1.7072 Validation Accuracy: 0.330800\n",
      "Epoch  6, CIFAR-10 Batch 1:  Loss:     1.5791 Validation Accuracy: 0.353000\n",
      "Epoch  7, CIFAR-10 Batch 1:  Loss:     1.5809 Validation Accuracy: 0.356000\n",
      "Epoch  8, CIFAR-10 Batch 1:  Loss:     1.5060 Validation Accuracy: 0.359800\n",
      "Epoch  9, CIFAR-10 Batch 1:  Loss:     1.4631 Validation Accuracy: 0.399200\n",
      "Epoch 10, CIFAR-10 Batch 1:  Loss:     1.3723 Validation Accuracy: 0.406400\n",
      "Epoch 11, CIFAR-10 Batch 1:  Loss:     1.3916 Validation Accuracy: 0.403600\n",
      "Epoch 12, CIFAR-10 Batch 1:  Loss:     1.2596 Validation Accuracy: 0.425800\n",
      "Epoch 13, CIFAR-10 Batch 1:  Loss:     1.2149 Validation Accuracy: 0.430600\n",
      "Epoch 14, CIFAR-10 Batch 1:  Loss:     1.2437 Validation Accuracy: 0.436600\n",
      "Epoch 15, CIFAR-10 Batch 1:  Loss:     1.1523 Validation Accuracy: 0.447000\n",
      "Epoch 16, CIFAR-10 Batch 1:  Loss:     1.1357 Validation Accuracy: 0.429800\n",
      "Epoch 17, CIFAR-10 Batch 1:  Loss:     1.0983 Validation Accuracy: 0.446200\n",
      "Epoch 18, CIFAR-10 Batch 1:  Loss:     1.0216 Validation Accuracy: 0.449600\n",
      "Epoch 19, CIFAR-10 Batch 1:  Loss:     1.0185 Validation Accuracy: 0.456800\n",
      "Epoch 20, CIFAR-10 Batch 1:  Loss:     0.9410 Validation Accuracy: 0.457400\n",
      "Epoch 21, CIFAR-10 Batch 1:  Loss:     0.9217 Validation Accuracy: 0.452600\n",
      "Epoch 22, CIFAR-10 Batch 1:  Loss:     0.8766 Validation Accuracy: 0.469800\n",
      "Epoch 23, CIFAR-10 Batch 1:  Loss:     0.8694 Validation Accuracy: 0.454400\n",
      "Epoch 24, CIFAR-10 Batch 1:  Loss:     0.8182 Validation Accuracy: 0.468000\n",
      "Epoch 25, CIFAR-10 Batch 1:  Loss:     0.8260 Validation Accuracy: 0.481000\n",
      "Epoch 26, CIFAR-10 Batch 1:  Loss:     0.7533 Validation Accuracy: 0.474400\n",
      "Epoch 27, CIFAR-10 Batch 1:  Loss:     0.7047 Validation Accuracy: 0.472000\n",
      "Epoch 28, CIFAR-10 Batch 1:  Loss:     0.7480 Validation Accuracy: 0.483200\n",
      "Epoch 29, CIFAR-10 Batch 1:  Loss:     0.6401 Validation Accuracy: 0.479200\n",
      "Epoch 30, CIFAR-10 Batch 1:  Loss:     0.6219 Validation Accuracy: 0.483800\n",
      "Epoch 31, CIFAR-10 Batch 1:  Loss:     0.6255 Validation Accuracy: 0.481600\n",
      "Epoch 32, CIFAR-10 Batch 1:  Loss:     0.6145 Validation Accuracy: 0.490400\n",
      "Epoch 33, CIFAR-10 Batch 1:  Loss:     0.5801 Validation Accuracy: 0.481600\n",
      "Epoch 34, CIFAR-10 Batch 1:  Loss:     0.5273 Validation Accuracy: 0.489600\n",
      "Epoch 35, CIFAR-10 Batch 1:  Loss:     0.5131 Validation Accuracy: 0.500400\n",
      "Epoch 36, CIFAR-10 Batch 1:  Loss:     0.5023 Validation Accuracy: 0.493800\n",
      "Epoch 37, CIFAR-10 Batch 1:  Loss:     0.4640 Validation Accuracy: 0.508200\n",
      "Epoch 38, CIFAR-10 Batch 1:  Loss:     0.4017 Validation Accuracy: 0.500200\n",
      "Epoch 39, CIFAR-10 Batch 1:  Loss:     0.4024 Validation Accuracy: 0.506200\n",
      "Epoch 40, CIFAR-10 Batch 1:  Loss:     0.4174 Validation Accuracy: 0.513800\n",
      "Epoch 41, CIFAR-10 Batch 1:  Loss:     0.4082 Validation Accuracy: 0.510600\n",
      "Epoch 42, CIFAR-10 Batch 1:  Loss:     0.3742 Validation Accuracy: 0.509000\n",
      "Epoch 43, CIFAR-10 Batch 1:  Loss:     0.3658 Validation Accuracy: 0.514400\n",
      "Epoch 44, CIFAR-10 Batch 1:  Loss:     0.3235 Validation Accuracy: 0.498200\n",
      "Epoch 45, CIFAR-10 Batch 1:  Loss:     0.3229 Validation Accuracy: 0.499200\n",
      "Epoch 46, CIFAR-10 Batch 1:  Loss:     0.3227 Validation Accuracy: 0.509800\n",
      "Epoch 47, CIFAR-10 Batch 1:  Loss:     0.3173 Validation Accuracy: 0.491800\n",
      "Epoch 48, CIFAR-10 Batch 1:  Loss:     0.2854 Validation Accuracy: 0.491200\n",
      "Epoch 49, CIFAR-10 Batch 1:  Loss:     0.2411 Validation Accuracy: 0.484800\n",
      "Epoch 50, CIFAR-10 Batch 1:  Loss:     0.2534 Validation Accuracy: 0.501000\n"
     ]
    }
   ],
   "source": [
    "\"\"\"\n",
    "DON'T MODIFY ANYTHING IN THIS CELL\n",
    "\"\"\"\n",
    "print('Checking the Training on a Single Batch...')\n",
    "with tf.Session() as sess:\n",
    "    # Initializing the variables\n",
    "    sess.run(tf.global_variables_initializer())\n",
    "    \n",
    "    # Training cycle\n",
    "    for epoch in range(epochs):\n",
    "        batch_i = 1\n",
    "        for batch_features, batch_labels in helper.load_preprocess_training_batch(batch_i, batch_size):\n",
    "            train_neural_network(sess, optimizer, keep_probability, batch_features, batch_labels)\n",
    "        print('Epoch {:>2}, CIFAR-10 Batch {}:  '.format(epoch + 1, batch_i), end='')\n",
    "        print_stats(sess, batch_features, batch_labels, cost, accuracy)"
   ]
  },
  {
   "cell_type": "markdown",
   "metadata": {},
   "source": [
    "### Fully Train the Model\n",
    "Now that you got a good accuracy with a single CIFAR-10 batch, try it with all five batches."
   ]
  },
  {
   "cell_type": "code",
   "execution_count": 23,
   "metadata": {},
   "outputs": [
    {
     "name": "stdout",
     "output_type": "stream",
     "text": [
      "Training...\n",
      "Epoch  1, CIFAR-10 Batch 1:  Loss:     2.1259 Validation Accuracy: 0.261400\n",
      "Epoch  1, CIFAR-10 Batch 2:  Loss:     1.9300 Validation Accuracy: 0.306000\n",
      "Epoch  1, CIFAR-10 Batch 3:  Loss:     1.6846 Validation Accuracy: 0.334200\n",
      "Epoch  1, CIFAR-10 Batch 4:  Loss:     1.6954 Validation Accuracy: 0.348400\n",
      "Epoch  1, CIFAR-10 Batch 5:  Loss:     1.8148 Validation Accuracy: 0.391400\n",
      "Epoch  2, CIFAR-10 Batch 1:  Loss:     1.8296 Validation Accuracy: 0.353600\n",
      "Epoch  2, CIFAR-10 Batch 2:  Loss:     1.6239 Validation Accuracy: 0.367800\n",
      "Epoch  2, CIFAR-10 Batch 3:  Loss:     1.4189 Validation Accuracy: 0.423800\n",
      "Epoch  2, CIFAR-10 Batch 4:  Loss:     1.4723 Validation Accuracy: 0.447400\n",
      "Epoch  2, CIFAR-10 Batch 5:  Loss:     1.6071 Validation Accuracy: 0.437000\n",
      "Epoch  3, CIFAR-10 Batch 1:  Loss:     1.6153 Validation Accuracy: 0.414800\n",
      "Epoch  3, CIFAR-10 Batch 2:  Loss:     1.4705 Validation Accuracy: 0.437600\n",
      "Epoch  3, CIFAR-10 Batch 3:  Loss:     1.2868 Validation Accuracy: 0.439000\n",
      "Epoch  3, CIFAR-10 Batch 4:  Loss:     1.3883 Validation Accuracy: 0.472000\n",
      "Epoch  3, CIFAR-10 Batch 5:  Loss:     1.4841 Validation Accuracy: 0.444200\n",
      "Epoch  4, CIFAR-10 Batch 1:  Loss:     1.5588 Validation Accuracy: 0.442600\n",
      "Epoch  4, CIFAR-10 Batch 2:  Loss:     1.3295 Validation Accuracy: 0.469000\n",
      "Epoch  4, CIFAR-10 Batch 3:  Loss:     1.2511 Validation Accuracy: 0.495200\n",
      "Epoch  4, CIFAR-10 Batch 4:  Loss:     1.2053 Validation Accuracy: 0.473600\n",
      "Epoch  4, CIFAR-10 Batch 5:  Loss:     1.4603 Validation Accuracy: 0.438000\n",
      "Epoch  5, CIFAR-10 Batch 1:  Loss:     1.4032 Validation Accuracy: 0.461800\n",
      "Epoch  5, CIFAR-10 Batch 2:  Loss:     1.2324 Validation Accuracy: 0.494200\n",
      "Epoch  5, CIFAR-10 Batch 3:  Loss:     1.0577 Validation Accuracy: 0.504000\n",
      "Epoch  5, CIFAR-10 Batch 4:  Loss:     1.1337 Validation Accuracy: 0.515800\n",
      "Epoch  5, CIFAR-10 Batch 5:  Loss:     1.3143 Validation Accuracy: 0.488200\n",
      "Epoch  6, CIFAR-10 Batch 1:  Loss:     1.3848 Validation Accuracy: 0.477400\n",
      "Epoch  6, CIFAR-10 Batch 2:  Loss:     1.1118 Validation Accuracy: 0.504000\n",
      "Epoch  6, CIFAR-10 Batch 3:  Loss:     0.9693 Validation Accuracy: 0.519400\n",
      "Epoch  6, CIFAR-10 Batch 4:  Loss:     1.0785 Validation Accuracy: 0.518200\n",
      "Epoch  6, CIFAR-10 Batch 5:  Loss:     1.2688 Validation Accuracy: 0.518600\n",
      "Epoch  7, CIFAR-10 Batch 1:  Loss:     1.2865 Validation Accuracy: 0.502000\n",
      "Epoch  7, CIFAR-10 Batch 2:  Loss:     1.0929 Validation Accuracy: 0.534200\n",
      "Epoch  7, CIFAR-10 Batch 3:  Loss:     0.9465 Validation Accuracy: 0.547800\n",
      "Epoch  7, CIFAR-10 Batch 4:  Loss:     0.9833 Validation Accuracy: 0.531400\n",
      "Epoch  7, CIFAR-10 Batch 5:  Loss:     1.1235 Validation Accuracy: 0.539800\n",
      "Epoch  8, CIFAR-10 Batch 1:  Loss:     1.1925 Validation Accuracy: 0.494600\n",
      "Epoch  8, CIFAR-10 Batch 2:  Loss:     0.9674 Validation Accuracy: 0.536200\n",
      "Epoch  8, CIFAR-10 Batch 3:  Loss:     0.8723 Validation Accuracy: 0.548200\n",
      "Epoch  8, CIFAR-10 Batch 4:  Loss:     0.9230 Validation Accuracy: 0.556200\n",
      "Epoch  8, CIFAR-10 Batch 5:  Loss:     1.0771 Validation Accuracy: 0.541400\n",
      "Epoch  9, CIFAR-10 Batch 1:  Loss:     1.2107 Validation Accuracy: 0.490800\n",
      "Epoch  9, CIFAR-10 Batch 2:  Loss:     0.9252 Validation Accuracy: 0.526800\n",
      "Epoch  9, CIFAR-10 Batch 3:  Loss:     0.8073 Validation Accuracy: 0.514600\n",
      "Epoch  9, CIFAR-10 Batch 4:  Loss:     0.8867 Validation Accuracy: 0.545800\n",
      "Epoch  9, CIFAR-10 Batch 5:  Loss:     1.0484 Validation Accuracy: 0.551200\n",
      "Epoch 10, CIFAR-10 Batch 1:  Loss:     1.1066 Validation Accuracy: 0.529600\n",
      "Epoch 10, CIFAR-10 Batch 2:  Loss:     0.8981 Validation Accuracy: 0.547400\n",
      "Epoch 10, CIFAR-10 Batch 3:  Loss:     0.7823 Validation Accuracy: 0.556800\n",
      "Epoch 10, CIFAR-10 Batch 4:  Loss:     0.8337 Validation Accuracy: 0.550200\n",
      "Epoch 10, CIFAR-10 Batch 5:  Loss:     1.2085 Validation Accuracy: 0.549400\n",
      "Epoch 11, CIFAR-10 Batch 1:  Loss:     1.0733 Validation Accuracy: 0.537200\n",
      "Epoch 11, CIFAR-10 Batch 2:  Loss:     0.8724 Validation Accuracy: 0.571600\n",
      "Epoch 11, CIFAR-10 Batch 3:  Loss:     0.7998 Validation Accuracy: 0.563600\n",
      "Epoch 11, CIFAR-10 Batch 4:  Loss:     0.7911 Validation Accuracy: 0.540200\n",
      "Epoch 11, CIFAR-10 Batch 5:  Loss:     0.8797 Validation Accuracy: 0.566000\n",
      "Epoch 12, CIFAR-10 Batch 1:  Loss:     1.0054 Validation Accuracy: 0.535600\n",
      "Epoch 12, CIFAR-10 Batch 2:  Loss:     0.8123 Validation Accuracy: 0.572000\n",
      "Epoch 12, CIFAR-10 Batch 3:  Loss:     0.6473 Validation Accuracy: 0.548800\n",
      "Epoch 12, CIFAR-10 Batch 4:  Loss:     0.7497 Validation Accuracy: 0.540400\n",
      "Epoch 12, CIFAR-10 Batch 5:  Loss:     0.9045 Validation Accuracy: 0.559400\n",
      "Epoch 13, CIFAR-10 Batch 1:  Loss:     0.9485 Validation Accuracy: 0.548200\n",
      "Epoch 13, CIFAR-10 Batch 2:  Loss:     0.7716 Validation Accuracy: 0.572600\n",
      "Epoch 13, CIFAR-10 Batch 3:  Loss:     0.6101 Validation Accuracy: 0.571600\n",
      "Epoch 13, CIFAR-10 Batch 4:  Loss:     0.6923 Validation Accuracy: 0.562400\n",
      "Epoch 13, CIFAR-10 Batch 5:  Loss:     0.7905 Validation Accuracy: 0.592000\n",
      "Epoch 14, CIFAR-10 Batch 1:  Loss:     0.8958 Validation Accuracy: 0.545200\n",
      "Epoch 14, CIFAR-10 Batch 2:  Loss:     0.7024 Validation Accuracy: 0.588800\n",
      "Epoch 14, CIFAR-10 Batch 3:  Loss:     0.5745 Validation Accuracy: 0.571400\n",
      "Epoch 14, CIFAR-10 Batch 4:  Loss:     0.6521 Validation Accuracy: 0.553600\n",
      "Epoch 14, CIFAR-10 Batch 5:  Loss:     0.7041 Validation Accuracy: 0.579600\n",
      "Epoch 15, CIFAR-10 Batch 1:  Loss:     0.8846 Validation Accuracy: 0.563800\n",
      "Epoch 15, CIFAR-10 Batch 2:  Loss:     0.6755 Validation Accuracy: 0.571200\n",
      "Epoch 15, CIFAR-10 Batch 3:  Loss:     0.5417 Validation Accuracy: 0.583000\n",
      "Epoch 15, CIFAR-10 Batch 4:  Loss:     0.6177 Validation Accuracy: 0.556600\n",
      "Epoch 15, CIFAR-10 Batch 5:  Loss:     0.6708 Validation Accuracy: 0.574400\n",
      "Epoch 16, CIFAR-10 Batch 1:  Loss:     0.8523 Validation Accuracy: 0.562000\n",
      "Epoch 16, CIFAR-10 Batch 2:  Loss:     0.6455 Validation Accuracy: 0.572000\n",
      "Epoch 16, CIFAR-10 Batch 3:  Loss:     0.5261 Validation Accuracy: 0.579400\n",
      "Epoch 16, CIFAR-10 Batch 4:  Loss:     0.5799 Validation Accuracy: 0.555400\n",
      "Epoch 16, CIFAR-10 Batch 5:  Loss:     0.6251 Validation Accuracy: 0.590600\n",
      "Epoch 17, CIFAR-10 Batch 1:  Loss:     0.7508 Validation Accuracy: 0.534000\n",
      "Epoch 17, CIFAR-10 Batch 2:  Loss:     0.5891 Validation Accuracy: 0.580400\n",
      "Epoch 17, CIFAR-10 Batch 3:  Loss:     0.5218 Validation Accuracy: 0.600800\n",
      "Epoch 17, CIFAR-10 Batch 4:  Loss:     0.5545 Validation Accuracy: 0.578400\n",
      "Epoch 17, CIFAR-10 Batch 5:  Loss:     0.6387 Validation Accuracy: 0.577800\n",
      "Epoch 18, CIFAR-10 Batch 1:  Loss:     0.7152 Validation Accuracy: 0.566400\n",
      "Epoch 18, CIFAR-10 Batch 2:  Loss:     0.5554 Validation Accuracy: 0.573000\n",
      "Epoch 18, CIFAR-10 Batch 3:  Loss:     0.5136 Validation Accuracy: 0.589800\n",
      "Epoch 18, CIFAR-10 Batch 4:  Loss:     0.5515 Validation Accuracy: 0.560400\n",
      "Epoch 18, CIFAR-10 Batch 5:  Loss:     0.5674 Validation Accuracy: 0.582000\n",
      "Epoch 19, CIFAR-10 Batch 1:  Loss:     0.7110 Validation Accuracy: 0.561000\n",
      "Epoch 19, CIFAR-10 Batch 2:  Loss:     0.5183 Validation Accuracy: 0.577800\n",
      "Epoch 19, CIFAR-10 Batch 3:  Loss:     0.4644 Validation Accuracy: 0.605800\n",
      "Epoch 19, CIFAR-10 Batch 4:  Loss:     0.5009 Validation Accuracy: 0.573200\n",
      "Epoch 19, CIFAR-10 Batch 5:  Loss:     0.5439 Validation Accuracy: 0.579000\n",
      "Epoch 20, CIFAR-10 Batch 1:  Loss:     0.6439 Validation Accuracy: 0.562600\n",
      "Epoch 20, CIFAR-10 Batch 2:  Loss:     0.4717 Validation Accuracy: 0.563800\n",
      "Epoch 20, CIFAR-10 Batch 3:  Loss:     0.4526 Validation Accuracy: 0.600800\n",
      "Epoch 20, CIFAR-10 Batch 4:  Loss:     0.4686 Validation Accuracy: 0.584600\n",
      "Epoch 20, CIFAR-10 Batch 5:  Loss:     0.5047 Validation Accuracy: 0.587800\n",
      "Epoch 21, CIFAR-10 Batch 1:  Loss:     0.6179 Validation Accuracy: 0.565400\n",
      "Epoch 21, CIFAR-10 Batch 2:  Loss:     0.4816 Validation Accuracy: 0.566800\n",
      "Epoch 21, CIFAR-10 Batch 3:  Loss:     0.4035 Validation Accuracy: 0.604800\n",
      "Epoch 21, CIFAR-10 Batch 4:  Loss:     0.4639 Validation Accuracy: 0.586200\n",
      "Epoch 21, CIFAR-10 Batch 5:  Loss:     0.5362 Validation Accuracy: 0.595000\n",
      "Epoch 22, CIFAR-10 Batch 1:  Loss:     0.5737 Validation Accuracy: 0.572000\n",
      "Epoch 22, CIFAR-10 Batch 2:  Loss:     0.4364 Validation Accuracy: 0.574600\n",
      "Epoch 22, CIFAR-10 Batch 3:  Loss:     0.3701 Validation Accuracy: 0.568000\n"
     ]
    },
    {
     "name": "stdout",
     "output_type": "stream",
     "text": [
      "Epoch 22, CIFAR-10 Batch 4:  Loss:     0.4362 Validation Accuracy: 0.581000\n",
      "Epoch 22, CIFAR-10 Batch 5:  Loss:     0.5084 Validation Accuracy: 0.573400\n",
      "Epoch 23, CIFAR-10 Batch 1:  Loss:     0.5586 Validation Accuracy: 0.587800\n",
      "Epoch 23, CIFAR-10 Batch 2:  Loss:     0.4518 Validation Accuracy: 0.574000\n",
      "Epoch 23, CIFAR-10 Batch 3:  Loss:     0.3381 Validation Accuracy: 0.594400\n",
      "Epoch 23, CIFAR-10 Batch 4:  Loss:     0.4192 Validation Accuracy: 0.585600\n",
      "Epoch 23, CIFAR-10 Batch 5:  Loss:     0.4512 Validation Accuracy: 0.579800\n",
      "Epoch 24, CIFAR-10 Batch 1:  Loss:     0.5769 Validation Accuracy: 0.600200\n",
      "Epoch 24, CIFAR-10 Batch 2:  Loss:     0.4361 Validation Accuracy: 0.595800\n",
      "Epoch 24, CIFAR-10 Batch 3:  Loss:     0.3566 Validation Accuracy: 0.606200\n",
      "Epoch 24, CIFAR-10 Batch 4:  Loss:     0.4020 Validation Accuracy: 0.588600\n",
      "Epoch 24, CIFAR-10 Batch 5:  Loss:     0.4180 Validation Accuracy: 0.586600\n",
      "Epoch 25, CIFAR-10 Batch 1:  Loss:     0.4927 Validation Accuracy: 0.590800\n",
      "Epoch 25, CIFAR-10 Batch 2:  Loss:     0.4411 Validation Accuracy: 0.604400\n",
      "Epoch 25, CIFAR-10 Batch 3:  Loss:     0.2984 Validation Accuracy: 0.576400\n",
      "Epoch 25, CIFAR-10 Batch 4:  Loss:     0.3437 Validation Accuracy: 0.585000\n",
      "Epoch 25, CIFAR-10 Batch 5:  Loss:     0.3857 Validation Accuracy: 0.608000\n",
      "Epoch 26, CIFAR-10 Batch 1:  Loss:     0.5364 Validation Accuracy: 0.602200\n",
      "Epoch 26, CIFAR-10 Batch 2:  Loss:     0.3968 Validation Accuracy: 0.596800\n",
      "Epoch 26, CIFAR-10 Batch 3:  Loss:     0.3557 Validation Accuracy: 0.565200\n",
      "Epoch 26, CIFAR-10 Batch 4:  Loss:     0.3466 Validation Accuracy: 0.594000\n",
      "Epoch 26, CIFAR-10 Batch 5:  Loss:     0.3574 Validation Accuracy: 0.592800\n",
      "Epoch 27, CIFAR-10 Batch 1:  Loss:     0.4913 Validation Accuracy: 0.590000\n",
      "Epoch 27, CIFAR-10 Batch 2:  Loss:     0.3646 Validation Accuracy: 0.603200\n",
      "Epoch 27, CIFAR-10 Batch 3:  Loss:     0.2778 Validation Accuracy: 0.612800\n",
      "Epoch 27, CIFAR-10 Batch 4:  Loss:     0.3137 Validation Accuracy: 0.598600\n",
      "Epoch 27, CIFAR-10 Batch 5:  Loss:     0.3615 Validation Accuracy: 0.595400\n",
      "Epoch 28, CIFAR-10 Batch 1:  Loss:     0.4804 Validation Accuracy: 0.606200\n",
      "Epoch 28, CIFAR-10 Batch 2:  Loss:     0.3310 Validation Accuracy: 0.601400\n",
      "Epoch 28, CIFAR-10 Batch 3:  Loss:     0.2926 Validation Accuracy: 0.622000\n",
      "Epoch 28, CIFAR-10 Batch 4:  Loss:     0.3208 Validation Accuracy: 0.604200\n",
      "Epoch 28, CIFAR-10 Batch 5:  Loss:     0.3478 Validation Accuracy: 0.596000\n",
      "Epoch 29, CIFAR-10 Batch 1:  Loss:     0.4586 Validation Accuracy: 0.588400\n",
      "Epoch 29, CIFAR-10 Batch 2:  Loss:     0.2752 Validation Accuracy: 0.579400\n",
      "Epoch 29, CIFAR-10 Batch 3:  Loss:     0.2806 Validation Accuracy: 0.594600\n",
      "Epoch 29, CIFAR-10 Batch 4:  Loss:     0.3170 Validation Accuracy: 0.599000\n",
      "Epoch 29, CIFAR-10 Batch 5:  Loss:     0.3858 Validation Accuracy: 0.607800\n",
      "Epoch 30, CIFAR-10 Batch 1:  Loss:     0.4404 Validation Accuracy: 0.567600\n",
      "Epoch 30, CIFAR-10 Batch 2:  Loss:     0.3447 Validation Accuracy: 0.572200\n",
      "Epoch 30, CIFAR-10 Batch 3:  Loss:     0.3197 Validation Accuracy: 0.565000\n",
      "Epoch 30, CIFAR-10 Batch 4:  Loss:     0.2966 Validation Accuracy: 0.602800\n",
      "Epoch 30, CIFAR-10 Batch 5:  Loss:     0.3272 Validation Accuracy: 0.613200\n",
      "Epoch 31, CIFAR-10 Batch 1:  Loss:     0.4052 Validation Accuracy: 0.572200\n",
      "Epoch 31, CIFAR-10 Batch 2:  Loss:     0.3041 Validation Accuracy: 0.571400\n",
      "Epoch 31, CIFAR-10 Batch 3:  Loss:     0.2263 Validation Accuracy: 0.570600\n",
      "Epoch 31, CIFAR-10 Batch 4:  Loss:     0.2711 Validation Accuracy: 0.602200\n",
      "Epoch 31, CIFAR-10 Batch 5:  Loss:     0.3122 Validation Accuracy: 0.611600\n",
      "Epoch 32, CIFAR-10 Batch 1:  Loss:     0.4204 Validation Accuracy: 0.580800\n",
      "Epoch 32, CIFAR-10 Batch 2:  Loss:     0.3187 Validation Accuracy: 0.576600\n",
      "Epoch 32, CIFAR-10 Batch 3:  Loss:     0.2744 Validation Accuracy: 0.585000\n",
      "Epoch 32, CIFAR-10 Batch 4:  Loss:     0.2616 Validation Accuracy: 0.617800\n",
      "Epoch 32, CIFAR-10 Batch 5:  Loss:     0.3015 Validation Accuracy: 0.629200\n",
      "Epoch 33, CIFAR-10 Batch 1:  Loss:     0.3154 Validation Accuracy: 0.574400\n",
      "Epoch 33, CIFAR-10 Batch 2:  Loss:     0.2766 Validation Accuracy: 0.582800\n",
      "Epoch 33, CIFAR-10 Batch 3:  Loss:     0.2158 Validation Accuracy: 0.606800\n",
      "Epoch 33, CIFAR-10 Batch 4:  Loss:     0.2702 Validation Accuracy: 0.590000\n",
      "Epoch 33, CIFAR-10 Batch 5:  Loss:     0.3211 Validation Accuracy: 0.618800\n",
      "Epoch 34, CIFAR-10 Batch 1:  Loss:     0.3855 Validation Accuracy: 0.570600\n",
      "Epoch 34, CIFAR-10 Batch 2:  Loss:     0.2684 Validation Accuracy: 0.593200\n",
      "Epoch 34, CIFAR-10 Batch 3:  Loss:     0.2013 Validation Accuracy: 0.611200\n",
      "Epoch 34, CIFAR-10 Batch 4:  Loss:     0.2216 Validation Accuracy: 0.593600\n",
      "Epoch 34, CIFAR-10 Batch 5:  Loss:     0.2735 Validation Accuracy: 0.613600\n",
      "Epoch 35, CIFAR-10 Batch 1:  Loss:     0.2980 Validation Accuracy: 0.557000\n",
      "Epoch 35, CIFAR-10 Batch 2:  Loss:     0.2417 Validation Accuracy: 0.565200\n",
      "Epoch 35, CIFAR-10 Batch 3:  Loss:     0.1951 Validation Accuracy: 0.596800\n",
      "Epoch 35, CIFAR-10 Batch 4:  Loss:     0.2405 Validation Accuracy: 0.586600\n",
      "Epoch 35, CIFAR-10 Batch 5:  Loss:     0.2516 Validation Accuracy: 0.604200\n",
      "Epoch 36, CIFAR-10 Batch 1:  Loss:     0.3134 Validation Accuracy: 0.571000\n",
      "Epoch 36, CIFAR-10 Batch 2:  Loss:     0.2305 Validation Accuracy: 0.575800\n",
      "Epoch 36, CIFAR-10 Batch 3:  Loss:     0.2139 Validation Accuracy: 0.601000\n",
      "Epoch 36, CIFAR-10 Batch 4:  Loss:     0.2186 Validation Accuracy: 0.578200\n",
      "Epoch 36, CIFAR-10 Batch 5:  Loss:     0.2053 Validation Accuracy: 0.615800\n",
      "Epoch 37, CIFAR-10 Batch 1:  Loss:     0.3195 Validation Accuracy: 0.585000\n",
      "Epoch 37, CIFAR-10 Batch 2:  Loss:     0.2108 Validation Accuracy: 0.610800\n",
      "Epoch 37, CIFAR-10 Batch 3:  Loss:     0.1899 Validation Accuracy: 0.583200\n",
      "Epoch 37, CIFAR-10 Batch 4:  Loss:     0.2290 Validation Accuracy: 0.587600\n",
      "Epoch 37, CIFAR-10 Batch 5:  Loss:     0.2385 Validation Accuracy: 0.591800\n",
      "Epoch 38, CIFAR-10 Batch 1:  Loss:     0.2503 Validation Accuracy: 0.585000\n",
      "Epoch 38, CIFAR-10 Batch 2:  Loss:     0.2237 Validation Accuracy: 0.600200\n",
      "Epoch 38, CIFAR-10 Batch 3:  Loss:     0.1604 Validation Accuracy: 0.581400\n",
      "Epoch 38, CIFAR-10 Batch 4:  Loss:     0.2703 Validation Accuracy: 0.571400\n",
      "Epoch 38, CIFAR-10 Batch 5:  Loss:     0.2900 Validation Accuracy: 0.574800\n",
      "Epoch 39, CIFAR-10 Batch 1:  Loss:     0.2515 Validation Accuracy: 0.571800\n",
      "Epoch 39, CIFAR-10 Batch 2:  Loss:     0.1967 Validation Accuracy: 0.591000\n",
      "Epoch 39, CIFAR-10 Batch 3:  Loss:     0.1700 Validation Accuracy: 0.584200\n",
      "Epoch 39, CIFAR-10 Batch 4:  Loss:     0.2315 Validation Accuracy: 0.577600\n",
      "Epoch 39, CIFAR-10 Batch 5:  Loss:     0.1748 Validation Accuracy: 0.602200\n",
      "Epoch 40, CIFAR-10 Batch 1:  Loss:     0.2094 Validation Accuracy: 0.578800\n",
      "Epoch 40, CIFAR-10 Batch 2:  Loss:     0.2082 Validation Accuracy: 0.578400\n",
      "Epoch 40, CIFAR-10 Batch 3:  Loss:     0.1868 Validation Accuracy: 0.612200\n",
      "Epoch 40, CIFAR-10 Batch 4:  Loss:     0.1823 Validation Accuracy: 0.586800\n",
      "Epoch 40, CIFAR-10 Batch 5:  Loss:     0.1915 Validation Accuracy: 0.589000\n",
      "Epoch 41, CIFAR-10 Batch 1:  Loss:     0.2098 Validation Accuracy: 0.588000\n",
      "Epoch 41, CIFAR-10 Batch 2:  Loss:     0.2286 Validation Accuracy: 0.584200\n",
      "Epoch 41, CIFAR-10 Batch 3:  Loss:     0.2352 Validation Accuracy: 0.595000\n",
      "Epoch 41, CIFAR-10 Batch 4:  Loss:     0.2348 Validation Accuracy: 0.568800\n",
      "Epoch 41, CIFAR-10 Batch 5:  Loss:     0.2232 Validation Accuracy: 0.566600\n",
      "Epoch 42, CIFAR-10 Batch 1:  Loss:     0.2024 Validation Accuracy: 0.583000\n",
      "Epoch 42, CIFAR-10 Batch 2:  Loss:     0.1694 Validation Accuracy: 0.583600\n",
      "Epoch 42, CIFAR-10 Batch 3:  Loss:     0.1594 Validation Accuracy: 0.594200\n",
      "Epoch 42, CIFAR-10 Batch 4:  Loss:     0.1607 Validation Accuracy: 0.583600\n",
      "Epoch 42, CIFAR-10 Batch 5:  Loss:     0.2030 Validation Accuracy: 0.573600\n",
      "Epoch 43, CIFAR-10 Batch 1:  Loss:     0.2061 Validation Accuracy: 0.591200\n",
      "Epoch 43, CIFAR-10 Batch 2:  Loss:     0.1809 Validation Accuracy: 0.608000\n",
      "Epoch 43, CIFAR-10 Batch 3:  Loss:     0.1985 Validation Accuracy: 0.546600\n",
      "Epoch 43, CIFAR-10 Batch 4:  Loss:     0.1638 Validation Accuracy: 0.602400\n",
      "Epoch 43, CIFAR-10 Batch 5:  Loss:     0.1918 Validation Accuracy: 0.583400\n",
      "Epoch 44, CIFAR-10 Batch 1:  Loss:     0.1854 Validation Accuracy: 0.592800\n"
     ]
    },
    {
     "name": "stdout",
     "output_type": "stream",
     "text": [
      "Epoch 44, CIFAR-10 Batch 2:  Loss:     0.1773 Validation Accuracy: 0.618600\n",
      "Epoch 44, CIFAR-10 Batch 3:  Loss:     0.1544 Validation Accuracy: 0.558600\n",
      "Epoch 44, CIFAR-10 Batch 4:  Loss:     0.1346 Validation Accuracy: 0.609400\n",
      "Epoch 44, CIFAR-10 Batch 5:  Loss:     0.1412 Validation Accuracy: 0.595200\n",
      "Epoch 45, CIFAR-10 Batch 1:  Loss:     0.1935 Validation Accuracy: 0.597000\n",
      "Epoch 45, CIFAR-10 Batch 2:  Loss:     0.1956 Validation Accuracy: 0.615600\n",
      "Epoch 45, CIFAR-10 Batch 3:  Loss:     0.1213 Validation Accuracy: 0.574400\n",
      "Epoch 45, CIFAR-10 Batch 4:  Loss:     0.1575 Validation Accuracy: 0.588600\n",
      "Epoch 45, CIFAR-10 Batch 5:  Loss:     0.1930 Validation Accuracy: 0.579000\n",
      "Epoch 46, CIFAR-10 Batch 1:  Loss:     0.2041 Validation Accuracy: 0.593800\n",
      "Epoch 46, CIFAR-10 Batch 2:  Loss:     0.1394 Validation Accuracy: 0.618000\n",
      "Epoch 46, CIFAR-10 Batch 3:  Loss:     0.1271 Validation Accuracy: 0.574200\n",
      "Epoch 46, CIFAR-10 Batch 4:  Loss:     0.1296 Validation Accuracy: 0.609000\n",
      "Epoch 46, CIFAR-10 Batch 5:  Loss:     0.1377 Validation Accuracy: 0.594000\n",
      "Epoch 47, CIFAR-10 Batch 1:  Loss:     0.1924 Validation Accuracy: 0.601800\n",
      "Epoch 47, CIFAR-10 Batch 2:  Loss:     0.1619 Validation Accuracy: 0.624800\n",
      "Epoch 47, CIFAR-10 Batch 3:  Loss:     0.1207 Validation Accuracy: 0.568400\n",
      "Epoch 47, CIFAR-10 Batch 4:  Loss:     0.1396 Validation Accuracy: 0.607000\n",
      "Epoch 47, CIFAR-10 Batch 5:  Loss:     0.1326 Validation Accuracy: 0.590800\n",
      "Epoch 48, CIFAR-10 Batch 1:  Loss:     0.1362 Validation Accuracy: 0.604600\n",
      "Epoch 48, CIFAR-10 Batch 2:  Loss:     0.1511 Validation Accuracy: 0.607400\n",
      "Epoch 48, CIFAR-10 Batch 3:  Loss:     0.1425 Validation Accuracy: 0.543800\n",
      "Epoch 48, CIFAR-10 Batch 4:  Loss:     0.1564 Validation Accuracy: 0.602200\n",
      "Epoch 48, CIFAR-10 Batch 5:  Loss:     0.1258 Validation Accuracy: 0.584200\n",
      "Epoch 49, CIFAR-10 Batch 1:  Loss:     0.1335 Validation Accuracy: 0.595400\n",
      "Epoch 49, CIFAR-10 Batch 2:  Loss:     0.1378 Validation Accuracy: 0.601000\n",
      "Epoch 49, CIFAR-10 Batch 3:  Loss:     0.1110 Validation Accuracy: 0.551600\n",
      "Epoch 49, CIFAR-10 Batch 4:  Loss:     0.1483 Validation Accuracy: 0.614400\n",
      "Epoch 49, CIFAR-10 Batch 5:  Loss:     0.1010 Validation Accuracy: 0.607400\n",
      "Epoch 50, CIFAR-10 Batch 1:  Loss:     0.1611 Validation Accuracy: 0.600200\n",
      "Epoch 50, CIFAR-10 Batch 2:  Loss:     0.1266 Validation Accuracy: 0.607000\n",
      "Epoch 50, CIFAR-10 Batch 3:  Loss:     0.0850 Validation Accuracy: 0.568600\n",
      "Epoch 50, CIFAR-10 Batch 4:  Loss:     0.1205 Validation Accuracy: 0.615200\n",
      "Epoch 50, CIFAR-10 Batch 5:  Loss:     0.0909 Validation Accuracy: 0.603600\n"
     ]
    }
   ],
   "source": [
    "\"\"\"\n",
    "DON'T MODIFY ANYTHING IN THIS CELL\n",
    "\"\"\"\n",
    "save_model_path = './image_classification'\n",
    "\n",
    "print('Training...')\n",
    "with tf.Session() as sess:\n",
    "    # Initializing the variables\n",
    "    sess.run(tf.global_variables_initializer())\n",
    "    \n",
    "    # Training cycle\n",
    "    for epoch in range(epochs):\n",
    "        # Loop over all batches\n",
    "        n_batches = 5\n",
    "        for batch_i in range(1, n_batches + 1):\n",
    "            for batch_features, batch_labels in helper.load_preprocess_training_batch(batch_i, batch_size):\n",
    "                train_neural_network(sess, optimizer, keep_probability, batch_features, batch_labels)\n",
    "            print('Epoch {:>2}, CIFAR-10 Batch {}:  '.format(epoch + 1, batch_i), end='')\n",
    "            print_stats(sess, batch_features, batch_labels, cost, accuracy)\n",
    "            \n",
    "    # Save Model\n",
    "    saver = tf.train.Saver()\n",
    "    save_path = saver.save(sess, save_model_path)"
   ]
  },
  {
   "cell_type": "markdown",
   "metadata": {},
   "source": [
    "# Checkpoint\n",
    "The model has been saved to disk.\n",
    "## Test Model\n",
    "Test your model against the test dataset.  This will be your final accuracy. You should have an accuracy greater than 50%. If you don't, keep tweaking the model architecture and parameters."
   ]
  },
  {
   "cell_type": "code",
   "execution_count": 24,
   "metadata": {},
   "outputs": [
    {
     "name": "stdout",
     "output_type": "stream",
     "text": [
      "INFO:tensorflow:Restoring parameters from ./image_classification\n",
      "Testing Accuracy: 0.6427017405063291\n",
      "\n"
     ]
    },
    {
     "data": {
      "image/png": "[encoded data removed]",
      "text/plain": [
       "<matplotlib.figure.Figure at 0x7f6b34b81828>"
      ]
     },
     "metadata": {
      "image/png": {
       "height": 319,
       "width": 355
      }
     },
     "output_type": "display_data"
    }
   ],
   "source": [
    "\"\"\"\n",
    "DON'T MODIFY ANYTHING IN THIS CELL\n",
    "\"\"\"\n",
    "%matplotlib inline\n",
    "%config InlineBackend.figure_format = 'retina'\n",
    "\n",
    "import tensorflow as tf\n",
    "import pickle\n",
    "import helper\n",
    "import random\n",
    "\n",
    "# Set batch size if not already set\n",
    "try:\n",
    "    if batch_size:\n",
    "        pass\n",
    "except NameError:\n",
    "    batch_size = 64\n",
    "\n",
    "save_model_path = './image_classification'\n",
    "n_samples = 4\n",
    "top_n_predictions = 3\n",
    "\n",
    "def test_model():\n",
    "    \"\"\"\n",
    "    Test the saved model against the test dataset\n",
    "    \"\"\"\n",
    "\n",
    "    test_features, test_labels = pickle.load(open('preprocess_test.p', mode='rb'))\n",
    "    loaded_graph = tf.Graph()\n",
    "\n",
    "    with tf.Session(graph=loaded_graph) as sess:\n",
    "        # Load model\n",
    "        loader = tf.train.import_meta_graph(save_model_path + '.meta')\n",
    "        loader.restore(sess, save_model_path)\n",
    "\n",
    "        # Get Tensors from loaded model\n",
    "        loaded_x = loaded_graph.get_tensor_by_name('x:0')\n",
    "        loaded_y = loaded_graph.get_tensor_by_name('y:0')\n",
    "        loaded_keep_prob = loaded_graph.get_tensor_by_name('keep_prob:0')\n",
    "        loaded_logits = loaded_graph.get_tensor_by_name('logits:0')\n",
    "        loaded_acc = loaded_graph.get_tensor_by_name('accuracy:0')\n",
    "        \n",
    "        # Get accuracy in batches for memory limitations\n",
    "        test_batch_acc_total = 0\n",
    "        test_batch_count = 0\n",
    "        \n",
    "        for test_feature_batch, test_label_batch in helper.batch_features_labels(test_features, test_labels, batch_size):\n",
    "            test_batch_acc_total += sess.run(\n",
    "                loaded_acc,\n",
    "                feed_dict={loaded_x: test_feature_batch, loaded_y: test_label_batch, loaded_keep_prob: 1.0})\n",
    "            test_batch_count += 1\n",
    "\n",
    "        print('Testing Accuracy: {}\\n'.format(test_batch_acc_total/test_batch_count))\n",
    "\n",
    "        # Print Random Samples\n",
    "        random_test_features, random_test_labels = tuple(zip(*random.sample(list(zip(test_features, test_labels)), n_samples)))\n",
    "        random_test_predictions = sess.run(\n",
    "            tf.nn.top_k(tf.nn.softmax(loaded_logits), top_n_predictions),\n",
    "            feed_dict={loaded_x: random_test_features, loaded_y: random_test_labels, loaded_keep_prob: 1.0})\n",
    "        helper.display_image_predictions(random_test_features, random_test_labels, random_test_predictions)\n",
    "\n",
    "\n",
    "test_model()"
   ]
  },
  {
   "cell_type": "markdown",
   "metadata": {},
   "source": [
    "## Why 50-80% Accuracy?\n",
    "You might be wondering why you can't get an accuracy any higher. First things first, 50% isn't bad for a simple CNN.  Pure guessing would get you 10% accuracy. However, you might notice people are getting scores [well above 80%](http://rodrigob.github.io/are_we_there_yet/build/classification_datasets_results.html#43494641522d3130).  That's because we haven't taught you all there is to know about neural networks. We still need to cover a few more techniques.\n",
    "## Submitting This Project\n",
    "When submitting this project, make sure to run all the cells before saving the notebook.  Save the notebook file as \"dlnd_image_classification.ipynb\" and save it as a HTML file under \"File\" -> \"Download as\".  Include the \"helper.py\" and \"problem_unittests.py\" files in your submission."
   ]
  }
 ],
 "metadata": {
  "kernelspec": {
   "display_name": "Python 3",
   "language": "python",
   "name": "python3"
  },
  "language_info": {
   "codemirror_mode": {
    "name": "ipython",
    "version": 3
   },
   "file_extension": ".py",
   "mimetype": "text/x-python",
   "name": "python",
   "nbconvert_exporter": "python",
   "pygments_lexer": "ipython3",
   "version": "3.5.3"
  }
 },
 "nbformat": 4,
 "nbformat_minor": 1
}
